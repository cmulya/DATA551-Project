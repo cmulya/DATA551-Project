{
 "cells": [
  {
   "cell_type": "code",
   "execution_count": 1,
   "metadata": {},
   "outputs": [
    {
     "name": "stderr",
     "output_type": "stream",
     "text": [
      "/var/folders/rm/vyg_v9yn5lxdqmz0kwgf7hm80000gn/T/ipykernel_22515/4211508663.py:6: UserWarning: \n",
      "The dash_core_components package is deprecated. Please replace\n",
      "`import dash_core_components as dcc` with `from dash import dcc`\n",
      "  import dash_core_components as dcc\n",
      "/var/folders/rm/vyg_v9yn5lxdqmz0kwgf7hm80000gn/T/ipykernel_22515/4211508663.py:7: UserWarning: \n",
      "The dash_html_components package is deprecated. Please replace\n",
      "`import dash_html_components as html` with `from dash import html`\n",
      "  import dash_html_components as html\n"
     ]
    },
    {
     "name": "stdout",
     "output_type": "stream",
     "text": [
      "Error decoding file Mobi_System_Data_2023-08.csv with encoding utf-8. Trying another encoding...\n"
     ]
    },
    {
     "name": "stderr",
     "output_type": "stream",
     "text": [
      "/var/folders/rm/vyg_v9yn5lxdqmz0kwgf7hm80000gn/T/ipykernel_22515/4211508663.py:24: DtypeWarning: Columns (2) have mixed types. Specify dtype option on import or set low_memory=False.\n",
      "  df = pd.read_csv(file_path, encoding=encoding)\n"
     ]
    },
    {
     "name": "stdout",
     "output_type": "stream",
     "text": [
      "Error decoding file Mobi_System_Data_2023-07.csv with encoding utf-8. Trying another encoding...\n",
      "Error decoding file Mobi_System_Data_2023-06.csv with encoding utf-8. Trying another encoding...\n"
     ]
    },
    {
     "name": "stderr",
     "output_type": "stream",
     "text": [
      "/var/folders/rm/vyg_v9yn5lxdqmz0kwgf7hm80000gn/T/ipykernel_22515/4211508663.py:24: DtypeWarning: Columns (0,1,2,3,4,5) have mixed types. Specify dtype option on import or set low_memory=False.\n",
      "  df = pd.read_csv(file_path, encoding=encoding)\n",
      "/var/folders/rm/vyg_v9yn5lxdqmz0kwgf7hm80000gn/T/ipykernel_22515/4211508663.py:24: DtypeWarning: Columns (2) have mixed types. Specify dtype option on import or set low_memory=False.\n",
      "  df = pd.read_csv(file_path, encoding=encoding)\n",
      "/var/folders/rm/vyg_v9yn5lxdqmz0kwgf7hm80000gn/T/ipykernel_22515/4211508663.py:24: DtypeWarning: Columns (0,1,2,3,4,5) have mixed types. Specify dtype option on import or set low_memory=False.\n",
      "  df = pd.read_csv(file_path, encoding=encoding)\n"
     ]
    }
   ],
   "source": [
    "import pandas as pd\n",
    "import os\n",
    "import dash\n",
    "import plotly.express as px\n",
    "import altair as alt\n",
    "import dash_core_components as dcc\n",
    "import dash_html_components as html\n",
    "from dash.dependencies import Input, Output\n",
    "import plotly.graph_objects as go \n",
    "\n",
    "# Path to the folder containing your files\n",
    "folder_path = '../dataset'\n",
    "\n",
    "# Initialize an empty list to store DataFrames\n",
    "dfs = []\n",
    "\n",
    "# Iterate over each file in the folder\n",
    "for filename in os.listdir(folder_path):\n",
    "    if filename.endswith('.csv'):  # Assuming all files are CSV, you can change the condition accordingly\n",
    "        file_path = os.path.join(folder_path, filename)\n",
    "        # Try different encodings to read the file\n",
    "        for encoding in ['utf-8', 'latin-1']:  # You can add more encodings to try if needed\n",
    "            try:\n",
    "                df = pd.read_csv(file_path, encoding=encoding)\n",
    "                dfs.append(df)  # Append the DataFrame to the list\n",
    "                break  # Break the loop if reading is successful\n",
    "            except UnicodeDecodeError:\n",
    "                print(f\"Error decoding file {filename} with encoding {encoding}. Trying another encoding...\")\n",
    "\n",
    "# Concatenate all DataFrames in the list into one\n",
    "combined_df = pd.concat(dfs, ignore_index=True)"
   ]
  },
  {
   "cell_type": "code",
   "execution_count": 3,
   "metadata": {},
   "outputs": [
    {
     "name": "stdout",
     "output_type": "stream",
     "text": [
      "The average departure temperature is: 17.848260104915468 degrees Celsius.\n"
     ]
    }
   ],
   "source": [
    "average_departure_temperature = combined_df['Departure temperature (C)'].mean()\n",
    "\n",
    "print(f\"The average departure temperature is: {average_departure_temperature} degrees Celsius.\")"
   ]
  },
  {
   "cell_type": "code",
   "execution_count": 4,
   "metadata": {},
   "outputs": [
    {
     "name": "stdout",
     "output_type": "stream",
     "text": [
      "The count of rides is: 1549268\n"
     ]
    }
   ],
   "source": [
    "# Get the count of rides\n",
    "rides_count = len(combined_df)\n",
    "\n",
    "print(f\"The count of rides is: {rides_count}\")"
   ]
  },
  {
   "cell_type": "code",
   "execution_count": 5,
   "metadata": {},
   "outputs": [
    {
     "name": "stdout",
     "output_type": "stream",
     "text": [
      "The maximum covered distance is 460.0 meters.\n"
     ]
    }
   ],
   "source": [
    "max_covered_distance = combined_df['Covered distance (m)'].max()\n",
    "\n",
    "# Convert to kilometers\n",
    "max_covered_distance_kilometers = round((max_covered_distance / 1000 ),0)\n",
    "\n",
    "print(f\"The maximum covered distance is {max_covered_distance_kilometers} meters.\")\n"
   ]
  },
  {
   "cell_type": "code",
   "execution_count": 6,
   "metadata": {},
   "outputs": [
    {
     "name": "stdout",
     "output_type": "stream",
     "text": [
      "The busiest station is:  with a count of 216414\n"
     ]
    }
   ],
   "source": [
    "# Remove null records\n",
    "combined_df = combined_df.dropna(subset=['Departure station'])\n",
    "\n",
    "# Extract only the station name (remove numbers and other characters)\n",
    "combined_df['Cleaned Station'] = combined_df['Departure station'].str.extract(r'([^\\d]+)')\n",
    "\n",
    "# Remove leading and trailing whitespaces\n",
    "combined_df['Cleaned Station'] = combined_df['Cleaned Station'].str.strip()\n",
    "\n",
    "# Count occurrences of each cleaned station\n",
    "cleaned_station_counts = combined_df['Cleaned Station'].value_counts()\n",
    "\n",
    "# Get the busiest cleaned station\n",
    "busiest_cleaned_station = cleaned_station_counts.idxmax()\n",
    "\n",
    "# Print the result\n",
    "print(f\"The busiest station is: {busiest_cleaned_station} with a count of {cleaned_station_counts[busiest_cleaned_station]}\")"
   ]
  },
  {
   "cell_type": "code",
   "execution_count": 7,
   "metadata": {},
   "outputs": [
    {
     "name": "stdout",
     "output_type": "stream",
     "text": [
      "The busiest station is: Stanley Park - Information Booth with a count of 38255\n"
     ]
    }
   ],
   "source": [
    "# Remove null records\n",
    "combined_df = combined_df.dropna(subset=['Departure station'])\n",
    "\n",
    "# Count occurrences of each station\n",
    "station_counts = combined_df['Departure station'].value_counts()\n",
    "\n",
    "# Get the busiest station\n",
    "busiest_station = station_counts.idxmax()\n",
    "\n",
    "# Print the result\n",
    "print(f\"The busiest station is: {busiest_station[5:]} with a count of {station_counts[busiest_station]}\")"
   ]
  },
  {
   "cell_type": "code",
   "execution_count": null,
   "metadata": {},
   "outputs": [],
   "source": [
    "# Convert 'Departure' to datetime\n",
    "combined_df['Departure'] = pd.to_datetime(combined_df['Departure'])\n",
    "\n",
    "# Extract day of the week\n",
    "combined_df['Day of Week'] = combined_df['Departure'].dt.day_name()\n",
    "\n",
    "# Count the number of trips for each day of the week\n",
    "busiest_day = combined_df['Day of Week'].value_counts().idxmax()\n",
    "\n",
    "print(f\"The busiest day is: {busiest_day}\")"
   ]
  },
  {
   "cell_type": "code",
   "execution_count": null,
   "metadata": {},
   "outputs": [],
   "source": []
  }
 ],
 "metadata": {
  "kernelspec": {
   "display_name": "Python 3",
   "language": "python",
   "name": "python3"
  },
  "language_info": {
   "codemirror_mode": {
    "name": "ipython",
    "version": 3
   },
   "file_extension": ".py",
   "mimetype": "text/x-python",
   "name": "python",
   "nbconvert_exporter": "python",
   "pygments_lexer": "ipython3",
   "version": "3.11.3"
  }
 },
 "nbformat": 4,
 "nbformat_minor": 2
}
